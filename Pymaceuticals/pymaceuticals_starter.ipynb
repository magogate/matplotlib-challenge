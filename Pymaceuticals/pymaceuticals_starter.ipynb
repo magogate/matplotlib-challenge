{
 "cells": [
  {
   "cell_type": "code",
   "execution_count": 1,
   "metadata": {},
   "outputs": [],
   "source": [
    "import matplotlib.pyplot as plt\n",
    "import pandas as pd\n",
    "import numpy as np\n",
    "from scipy.stats import sem\n",
    "\n",
    "# Hide warning messages in notebook\n",
    "import warnings\n",
    "warnings.filterwarnings('ignore')\n",
    "\n",
    "# File to Load (Remember to Change These)\n",
    "mouse_drug_data_to_load = \"D:/MyWork/GeorgiaTech/ClassesWork/5_HomeWork-Matplotlib/mouse_drug_data.csv\"\n",
    "clinical_trial_data_to_load = \"D:/MyWork/GeorgiaTech/ClassesWork/5_HomeWork-Matplotlib/clinicaltrial_data.csv\"\n",
    "\n",
    "df_mouse_drug_data = pd.read_csv(mouse_drug_data_to_load)\n",
    "df_clinical_trial_data = pd.read_csv(clinical_trial_data_to_load)\n"
   ]
  },
  {
   "cell_type": "code",
   "execution_count": 28,
   "metadata": {},
   "outputs": [],
   "source": [
    "df_drug_n_clinical_data = pd.merge(left=df_mouse_drug_data,right=df_clinical_trial_data\n",
    "                                   ,how=\"inner\", left_on=\"Mouse ID\", right_on=\"Mouse ID\")"
   ]
  },
  {
   "cell_type": "code",
   "execution_count": 29,
   "metadata": {},
   "outputs": [],
   "source": [
    "tumor_vol_mean = df_drug_n_clinical_data.groupby([\"Drug\",\"Timepoint\"])[\"Tumor Volume (mm3)\"].mean()\n",
    "#https://www.geeksforgeeks.org/python-pandas-series-iteritems/\n",
    "list_mean_tumor_vol = []\n",
    "for items in tumor_vol_mean.iteritems(): \n",
    "    drug, timepoint = items[0]\n",
    "    list_mean_tumor_vol.append( {\n",
    "            \"Drug\": drug\n",
    "            , \"Timepoint\": timepoint\n",
    "            , \"Tumor Volume (mm3)\": items[1]\n",
    "        })"
   ]
  },
  {
   "cell_type": "code",
   "execution_count": 30,
   "metadata": {},
   "outputs": [],
   "source": [
    "#https://stackoverflow.com/questions/46129774/pandas-standard-error-calculation-issue\n",
    "#mean_tumor = merged_inner.groupby([\"Drug\",\"Timepoint\"])[\"Tumor Volume (mm3)\"].mean()\n",
    "#standard_errors = [sem(s) for s in merged_inner.groupby([\"Drug\",\"Timepoint\"])[\"Tumor Volume (mm3)\"]]\n",
    "tumor_vol_err = (df_drug_n_clinical_data.groupby([\"Drug\",\"Timepoint\"])[\"Tumor Volume (mm3)\"]).sem()\n",
    "\n",
    "list_err_tumor_vol = []\n",
    "for items in tumor_vol_err.iteritems(): \n",
    "    drug, timepoint = items[0]\n",
    "    list_err_tumor_vol.append( {\n",
    "            \"Drug\": drug\n",
    "            , \"Timepoint\": timepoint\n",
    "            , \"Tumor Volume (mm3)\": items[1]\n",
    "        })    "
   ]
  },
  {
   "cell_type": "code",
   "execution_count": 31,
   "metadata": {},
   "outputs": [],
   "source": [
    "df_error_data = pd.DataFrame(list_err_tumor_vol)\n",
    "df_main_data = pd.DataFrame(list_mean_tumor_vol)"
   ]
  },
  {
   "cell_type": "code",
   "execution_count": 32,
   "metadata": {},
   "outputs": [
    {
     "data": {
      "text/html": [
       "<div>\n",
       "<style scoped>\n",
       "    .dataframe tbody tr th:only-of-type {\n",
       "        vertical-align: middle;\n",
       "    }\n",
       "\n",
       "    .dataframe tbody tr th {\n",
       "        vertical-align: top;\n",
       "    }\n",
       "\n",
       "    .dataframe thead th {\n",
       "        text-align: right;\n",
       "    }\n",
       "</style>\n",
       "<table border=\"1\" class=\"dataframe\">\n",
       "  <thead>\n",
       "    <tr style=\"text-align: right;\">\n",
       "      <th></th>\n",
       "      <th>Drug</th>\n",
       "      <th>Timepoint</th>\n",
       "      <th>Tumor Volume (mm3)</th>\n",
       "      <th>Error</th>\n",
       "    </tr>\n",
       "  </thead>\n",
       "  <tbody>\n",
       "    <tr>\n",
       "      <th>0</th>\n",
       "      <td>Capomulin</td>\n",
       "      <td>0</td>\n",
       "      <td>45.000000</td>\n",
       "      <td>0.000000</td>\n",
       "    </tr>\n",
       "    <tr>\n",
       "      <th>1</th>\n",
       "      <td>Capomulin</td>\n",
       "      <td>5</td>\n",
       "      <td>44.266086</td>\n",
       "      <td>0.448593</td>\n",
       "    </tr>\n",
       "    <tr>\n",
       "      <th>2</th>\n",
       "      <td>Capomulin</td>\n",
       "      <td>10</td>\n",
       "      <td>43.084291</td>\n",
       "      <td>0.702684</td>\n",
       "    </tr>\n",
       "    <tr>\n",
       "      <th>3</th>\n",
       "      <td>Capomulin</td>\n",
       "      <td>15</td>\n",
       "      <td>42.064317</td>\n",
       "      <td>0.838617</td>\n",
       "    </tr>\n",
       "  </tbody>\n",
       "</table>\n",
       "</div>"
      ],
      "text/plain": [
       "        Drug  Timepoint  Tumor Volume (mm3)     Error\n",
       "0  Capomulin          0           45.000000  0.000000\n",
       "1  Capomulin          5           44.266086  0.448593\n",
       "2  Capomulin         10           43.084291  0.702684\n",
       "3  Capomulin         15           42.064317  0.838617"
      ]
     },
     "execution_count": 32,
     "metadata": {},
     "output_type": "execute_result"
    }
   ],
   "source": [
    "df_main_data[\"Error\"] = df_error_data[\"Tumor Volume (mm3)\"].astype(float)\n",
    "df_main_data.head(4)"
   ]
  },
  {
   "cell_type": "code",
   "execution_count": 33,
   "metadata": {},
   "outputs": [
    {
     "data": {
      "text/plain": [
       "<matplotlib.legend.Legend at 0x1ec596e1dd8>"
      ]
     },
     "execution_count": 33,
     "metadata": {},
     "output_type": "execute_result"
    },
    {
     "data": {
      "image/png": "[encoded data removed]",
      "text/plain": [
       "<Figure size 576x360 with 1 Axes>"
      ]
     },
     "metadata": {
      "needs_background": "light"
     },
     "output_type": "display_data"
    }
   ],
   "source": [
    "# https://matplotlib.org/api/_as_gen/matplotlib.markers.MarkerStyle.html#matplotlib.markers.MarkerStyle\n",
    "\n",
    "#following is a line chart.. but we do not have to use that\n",
    "# plt.plot(first_scatter.loc[first_scatter[\"Drug\"] == \"Capomulin\",[\"Timepoint\"]]\n",
    "#             , first_scatter.loc[first_scatter[\"Drug\"] == \"Capomulin\",[\"Tumor Volume (mm3)\"]],color='orange'\n",
    "#          , marker='o', linestyle='dashed', linewidth=1, markersize=7, label=\"Capomulin\")\n",
    "\n",
    "# plt.plot(first_scatter.loc[first_scatter[\"Drug\"] == \"Infubinol\",[\"Timepoint\"]]\n",
    "#             , first_scatter.loc[first_scatter[\"Drug\"] == \"Infubinol\",[\"Tumor Volume (mm3)\"]],color='blue'\n",
    "#          , marker='^', linestyle='dashed', linewidth=1, markersize=7, label=\"Infubinol\")\n",
    "\n",
    "# plt.plot(first_scatter.loc[first_scatter[\"Drug\"] == \"Ketapril\",[\"Timepoint\"]]\n",
    "#             , first_scatter.loc[first_scatter[\"Drug\"] == \"Ketapril\",[\"Tumor Volume (mm3)\"]],color='green'\n",
    "#          , marker='s', linestyle='dashed', linewidth=1, markersize=7, label=\"Ketapril\")\n",
    "\n",
    "# plt.plot(first_scatter.loc[first_scatter[\"Drug\"] == \"Placebo\",[\"Timepoint\"]]\n",
    "#             , first_scatter.loc[first_scatter[\"Drug\"] == \"Placebo\",[\"Tumor Volume (mm3)\"]],color='black'\n",
    "#          , marker='d', linestyle='dashed', linewidth=1, markersize=7, label=\"Placebo\")\n",
    "\n",
    "\n",
    "plt.figure(figsize=(8,5))\n",
    "\n",
    "plt.scatter(df_main_data.loc[df_main_data[\"Drug\"] == \"Capomulin\",[\"Timepoint\"]]\n",
    "            , df_main_data.loc[df_main_data[\"Drug\"] == \"Capomulin\",[\"Tumor Volume (mm3)\"]]\n",
    "            , marker=\"o\", facecolors=\"orange\", edgecolors=\"black\", alpha=0.90, label=\"Capomulin\")\n",
    "plt.scatter(df_main_data.loc[df_main_data[\"Drug\"] == \"Infubinol\",[\"Timepoint\"]]\n",
    "            , df_main_data.loc[df_main_data[\"Drug\"] == \"Infubinol\",[\"Tumor Volume (mm3)\"]]\n",
    "            , marker=\"^\", facecolors=\"blue\", edgecolors=\"black\", alpha=0.90, label=\"Infubinol\")\n",
    "plt.scatter(df_main_data.loc[df_main_data[\"Drug\"] == \"Ketapril\",[\"Timepoint\"]]\n",
    "            , df_main_data.loc[df_main_data[\"Drug\"] == \"Ketapril\",[\"Tumor Volume (mm3)\"]]\n",
    "            , marker=\"s\", facecolors=\"green\", edgecolors=\"black\", alpha=0.90, label=\"Ketapril\" )\n",
    "plt.scatter(df_main_data.loc[df_main_data[\"Drug\"] == \"Placebo\",[\"Timepoint\"]]\n",
    "            , df_main_data.loc[df_main_data[\"Drug\"] == \"Placebo\",[\"Tumor Volume (mm3)\"]]\n",
    "            , marker=\"d\", facecolors=\"black\", edgecolors=\"black\", alpha=0.90, label=\"Placebo\")\n",
    "\n",
    "plt.errorbar(x=df_main_data.loc[df_main_data[\"Drug\"] == \"Capomulin\",[\"Timepoint\"]].values\n",
    "            , y=df_main_data.loc[df_main_data[\"Drug\"] == \"Capomulin\",[\"Tumor Volume (mm3)\"]].values\n",
    "            , yerr=df_main_data.loc[df_main_data[\"Drug\"] == \"Capomulin\",[\"Error\"]].values\n",
    "            , color='orange', marker='o', linestyle='dashed', linewidth=0.5\n",
    "            )\n",
    "plt.errorbar(x=df_main_data.loc[df_main_data[\"Drug\"] == \"Infubinol\",[\"Timepoint\"]].values\n",
    "            , y=df_main_data.loc[df_main_data[\"Drug\"] == \"Infubinol\",[\"Tumor Volume (mm3)\"]].values\n",
    "            , yerr=df_main_data.loc[df_main_data[\"Drug\"] == \"Infubinol\",[\"Error\"]].values\n",
    "            , color='blue', marker='d', linestyle='dashed', linewidth=0.5\n",
    "            )\n",
    "plt.errorbar(x=df_main_data.loc[df_main_data[\"Drug\"] == \"Ketapril\",[\"Timepoint\"]].values\n",
    "            , y=df_main_data.loc[df_main_data[\"Drug\"] == \"Ketapril\",[\"Tumor Volume (mm3)\"]].values\n",
    "            , yerr=df_main_data.loc[df_main_data[\"Drug\"] == \"Ketapril\",[\"Error\"]].values\n",
    "            , color='green', marker='s', linestyle='dashed', linewidth=0.5\n",
    "            )\n",
    "plt.errorbar(x=df_main_data.loc[df_main_data[\"Drug\"] == \"Placebo\",[\"Timepoint\"]].values\n",
    "            , y=df_main_data.loc[df_main_data[\"Drug\"] == \"Placebo\",[\"Tumor Volume (mm3)\"]].values\n",
    "            , yerr=df_main_data.loc[df_main_data[\"Drug\"] == \"Placebo\",[\"Error\"]].values\n",
    "            , color='black', marker='d', linestyle='dashed', linewidth=0.5\n",
    "            )\n",
    "\n",
    "plt.ylim(33, 74)\n",
    "\n",
    "plt.grid(axis = \"y\")\n",
    "plt.xlabel(\"Time (Days)\")\n",
    "plt.ylabel(\"Tumor Volume (mm3)\")\n",
    "plt.legend(loc=\"upper left\")"
   ]
  },
  {
   "cell_type": "code",
   "execution_count": 35,
   "metadata": {},
   "outputs": [],
   "source": [
    "metastatic_sites_mean = df_drug_n_clinical_data.groupby([\"Drug\",\"Timepoint\"])[\"Metastatic Sites\"].mean()\n",
    "list_mean_metastatic_sites = []\n",
    "for items in metastatic_sites_mean.iteritems(): \n",
    "    drug, timepoint = items[0]\n",
    "    list_mean_metastatic_sites.append( {\n",
    "            \"Drug\": drug\n",
    "            , \"Timepoint\": timepoint\n",
    "            , \"Metastatic Sites\": items[1]\n",
    "        })"
   ]
  },
  {
   "cell_type": "code",
   "execution_count": 47,
   "metadata": {},
   "outputs": [],
   "source": [
    "metastatic_sites_error = (df_drug_n_clinical_data.groupby([\"Drug\",\"Timepoint\"])[\"Metastatic Sites\"]).sem()\n",
    "list_error_metastatic_sites = []\n",
    "for items in metastatic_sites_error.iteritems(): \n",
    "    drug, timepoint = items[0]\n",
    "    list_error_metastatic_sites.append( {\n",
    "            \"Drug\": drug\n",
    "            , \"Timepoint\": timepoint\n",
    "            , \"Metastatic Sites\": items[1]\n",
    "        })"
   ]
  },
  {
   "cell_type": "code",
   "execution_count": 49,
   "metadata": {},
   "outputs": [],
   "source": [
    "df_error_data = pd.DataFrame(list_error_metastatic_sites)\n",
    "df_main_data = pd.DataFrame(list_mean_metastatic_sites)"
   ]
  },
  {
   "cell_type": "code",
   "execution_count": 50,
   "metadata": {},
   "outputs": [
    {
     "data": {
      "text/html": [
       "<div>\n",
       "<style scoped>\n",
       "    .dataframe tbody tr th:only-of-type {\n",
       "        vertical-align: middle;\n",
       "    }\n",
       "\n",
       "    .dataframe tbody tr th {\n",
       "        vertical-align: top;\n",
       "    }\n",
       "\n",
       "    .dataframe thead th {\n",
       "        text-align: right;\n",
       "    }\n",
       "</style>\n",
       "<table border=\"1\" class=\"dataframe\">\n",
       "  <thead>\n",
       "    <tr style=\"text-align: right;\">\n",
       "      <th></th>\n",
       "      <th>Drug</th>\n",
       "      <th>Metastatic Sites</th>\n",
       "      <th>Timepoint</th>\n",
       "      <th>Error</th>\n",
       "    </tr>\n",
       "  </thead>\n",
       "  <tbody>\n",
       "    <tr>\n",
       "      <th>0</th>\n",
       "      <td>Capomulin</td>\n",
       "      <td>0.000</td>\n",
       "      <td>0</td>\n",
       "      <td>0.000000</td>\n",
       "    </tr>\n",
       "    <tr>\n",
       "      <th>1</th>\n",
       "      <td>Capomulin</td>\n",
       "      <td>0.160</td>\n",
       "      <td>5</td>\n",
       "      <td>0.074833</td>\n",
       "    </tr>\n",
       "    <tr>\n",
       "      <th>2</th>\n",
       "      <td>Capomulin</td>\n",
       "      <td>0.320</td>\n",
       "      <td>10</td>\n",
       "      <td>0.125433</td>\n",
       "    </tr>\n",
       "    <tr>\n",
       "      <th>3</th>\n",
       "      <td>Capomulin</td>\n",
       "      <td>0.375</td>\n",
       "      <td>15</td>\n",
       "      <td>0.132048</td>\n",
       "    </tr>\n",
       "  </tbody>\n",
       "</table>\n",
       "</div>"
      ],
      "text/plain": [
       "        Drug  Metastatic Sites  Timepoint     Error\n",
       "0  Capomulin             0.000          0  0.000000\n",
       "1  Capomulin             0.160          5  0.074833\n",
       "2  Capomulin             0.320         10  0.125433\n",
       "3  Capomulin             0.375         15  0.132048"
      ]
     },
     "execution_count": 50,
     "metadata": {},
     "output_type": "execute_result"
    }
   ],
   "source": [
    "df_main_data[\"Error\"] = df_error_data[\"Metastatic Sites\"].astype(float)\n",
    "df_main_data.head(4)"
   ]
  },
  {
   "cell_type": "code",
   "execution_count": 55,
   "metadata": {},
   "outputs": [
    {
     "data": {
      "text/plain": [
       "<matplotlib.legend.Legend at 0x1ec59a17518>"
      ]
     },
     "execution_count": 55,
     "metadata": {},
     "output_type": "execute_result"
    },
    {
     "data": {
      "image/png": "[encoded data removed]",
      "text/plain": [
       "<Figure size 576x360 with 1 Axes>"
      ]
     },
     "metadata": {
      "needs_background": "light"
     },
     "output_type": "display_data"
    }
   ],
   "source": [
    "\n",
    "plt.figure(figsize=(8,5))\n",
    "\n",
    "plt.scatter(df_main_data.loc[df_main_data[\"Drug\"] == \"Capomulin\",[\"Timepoint\"]]\n",
    "            , df_main_data.loc[df_main_data[\"Drug\"] == \"Capomulin\",[\"Metastatic Sites\"]]\n",
    "            , marker=\"o\", facecolors=\"orange\", edgecolors=\"black\", alpha=0.90, label=\"Capomulin\")\n",
    "plt.scatter(df_main_data.loc[df_main_data[\"Drug\"] == \"Infubinol\",[\"Timepoint\"]]\n",
    "            , df_main_data.loc[df_main_data[\"Drug\"] == \"Infubinol\",[\"Metastatic Sites\"]]\n",
    "            , marker=\"^\", facecolors=\"blue\", edgecolors=\"black\", alpha=0.90, label=\"Infubinol\")\n",
    "plt.scatter(df_main_data.loc[df_main_data[\"Drug\"] == \"Ketapril\",[\"Timepoint\"]]\n",
    "            , df_main_data.loc[df_main_data[\"Drug\"] == \"Ketapril\",[\"Metastatic Sites\"]]\n",
    "            , marker=\"s\", facecolors=\"green\", edgecolors=\"black\", alpha=0.90, label=\"Ketapril\" )\n",
    "plt.scatter(df_main_data.loc[df_main_data[\"Drug\"] == \"Placebo\",[\"Timepoint\"]]\n",
    "            , df_main_data.loc[df_main_data[\"Drug\"] == \"Placebo\",[\"Metastatic Sites\"]]\n",
    "            , marker=\"d\", facecolors=\"black\", edgecolors=\"black\", alpha=0.90, label=\"Placebo\")\n",
    "\n",
    "plt.errorbar(x=df_main_data.loc[df_main_data[\"Drug\"] == \"Capomulin\",[\"Timepoint\"]].values\n",
    "            , y=df_main_data.loc[df_main_data[\"Drug\"] == \"Capomulin\",[\"Metastatic Sites\"]].values\n",
    "            , yerr=df_main_data.loc[df_main_data[\"Drug\"] == \"Capomulin\",[\"Error\"]].values\n",
    "            , color='orange', marker='o', linestyle='dashed', linewidth=0.5\n",
    "            )\n",
    "plt.errorbar(x=df_main_data.loc[df_main_data[\"Drug\"] == \"Infubinol\",[\"Timepoint\"]].values\n",
    "            , y=df_main_data.loc[df_main_data[\"Drug\"] == \"Infubinol\",[\"Metastatic Sites\"]].values\n",
    "            , yerr=df_main_data.loc[df_main_data[\"Drug\"] == \"Infubinol\",[\"Error\"]].values\n",
    "            , color='blue', marker='d', linestyle='dashed', linewidth=0.5\n",
    "            )\n",
    "plt.errorbar(x=df_main_data.loc[df_main_data[\"Drug\"] == \"Ketapril\",[\"Timepoint\"]].values\n",
    "            , y=df_main_data.loc[df_main_data[\"Drug\"] == \"Ketapril\",[\"Metastatic Sites\"]].values\n",
    "            , yerr=df_main_data.loc[df_main_data[\"Drug\"] == \"Ketapril\",[\"Error\"]].values\n",
    "            , color='green', marker='s', linestyle='dashed', linewidth=0.5\n",
    "            )\n",
    "plt.errorbar(x=df_main_data.loc[df_main_data[\"Drug\"] == \"Placebo\",[\"Timepoint\"]].values\n",
    "            , y=df_main_data.loc[df_main_data[\"Drug\"] == \"Placebo\",[\"Metastatic Sites\"]].values\n",
    "            , yerr=df_main_data.loc[df_main_data[\"Drug\"] == \"Placebo\",[\"Error\"]].values\n",
    "            , color='black', marker='d', linestyle='dashed', linewidth=0.5\n",
    "            )\n",
    "\n",
    "# plt.ylim(33, 74)\n",
    "\n",
    "plt.grid(axis = \"y\")\n",
    "plt.xlabel(\"Treatment Duration (Days)\")\n",
    "plt.ylabel(\"Met. Sites\")\n",
    "plt.legend(loc=\"upper left\")"
   ]
  },
  {
   "cell_type": "code",
   "execution_count": 69,
   "metadata": {},
   "outputs": [
    {
     "data": {
      "text/html": [
       "<div>\n",
       "<style scoped>\n",
       "    .dataframe tbody tr th:only-of-type {\n",
       "        vertical-align: middle;\n",
       "    }\n",
       "\n",
       "    .dataframe tbody tr th {\n",
       "        vertical-align: top;\n",
       "    }\n",
       "\n",
       "    .dataframe thead th {\n",
       "        text-align: right;\n",
       "    }\n",
       "</style>\n",
       "<table border=\"1\" class=\"dataframe\">\n",
       "  <thead>\n",
       "    <tr style=\"text-align: right;\">\n",
       "      <th></th>\n",
       "      <th>Drug</th>\n",
       "      <th>Mice Counts_x</th>\n",
       "      <th>Timepoint_x</th>\n",
       "      <th>Mice Counts_y</th>\n",
       "      <th>Timepoint_y</th>\n",
       "      <th>Counts%</th>\n",
       "    </tr>\n",
       "  </thead>\n",
       "  <tbody>\n",
       "    <tr>\n",
       "      <th>0</th>\n",
       "      <td>Capomulin</td>\n",
       "      <td>25</td>\n",
       "      <td>0</td>\n",
       "      <td>25</td>\n",
       "      <td>0</td>\n",
       "      <td>100.0</td>\n",
       "    </tr>\n",
       "    <tr>\n",
       "      <th>1</th>\n",
       "      <td>Capomulin</td>\n",
       "      <td>25</td>\n",
       "      <td>5</td>\n",
       "      <td>25</td>\n",
       "      <td>0</td>\n",
       "      <td>100.0</td>\n",
       "    </tr>\n",
       "    <tr>\n",
       "      <th>2</th>\n",
       "      <td>Capomulin</td>\n",
       "      <td>25</td>\n",
       "      <td>10</td>\n",
       "      <td>25</td>\n",
       "      <td>0</td>\n",
       "      <td>100.0</td>\n",
       "    </tr>\n",
       "    <tr>\n",
       "      <th>3</th>\n",
       "      <td>Capomulin</td>\n",
       "      <td>24</td>\n",
       "      <td>15</td>\n",
       "      <td>25</td>\n",
       "      <td>0</td>\n",
       "      <td>96.0</td>\n",
       "    </tr>\n",
       "    <tr>\n",
       "      <th>4</th>\n",
       "      <td>Capomulin</td>\n",
       "      <td>23</td>\n",
       "      <td>20</td>\n",
       "      <td>25</td>\n",
       "      <td>0</td>\n",
       "      <td>92.0</td>\n",
       "    </tr>\n",
       "  </tbody>\n",
       "</table>\n",
       "</div>"
      ],
      "text/plain": [
       "        Drug  Mice Counts_x  Timepoint_x  Mice Counts_y  Timepoint_y  Counts%\n",
       "0  Capomulin             25            0             25            0    100.0\n",
       "1  Capomulin             25            5             25            0    100.0\n",
       "2  Capomulin             25           10             25            0    100.0\n",
       "3  Capomulin             24           15             25            0     96.0\n",
       "4  Capomulin             23           20             25            0     92.0"
      ]
     },
     "execution_count": 69,
     "metadata": {},
     "output_type": "execute_result"
    }
   ],
   "source": [
    "mice_counts = df_drug_n_clinical_data.groupby([\"Drug\",\"Timepoint\"])[\"Mouse ID\"].count()\n",
    "\n",
    "list_mice_counts = []\n",
    "for items in mice_counts.iteritems(): \n",
    "    drug, timepoint = items[0]\n",
    "    list_mice_counts.append( {\n",
    "            \"Drug\": drug\n",
    "            , \"Timepoint\": timepoint\n",
    "            , \"Mice Counts\": items[1]\n",
    "        })\n",
    "\n",
    "df_filtered_data = pd.DataFrame(list_mice_counts).loc[pd.DataFrame(list_mice_counts)[\"Drug\"].isin([\"Capomulin\", \"Infubinol\", \"Ketapril\", \"Placebo\"]),:]\n",
    "\n",
    "df_initial_count = df_filtered_data.loc[ df_filtered_data[\"Timepoint\"]==0 , :]\n",
    "df_main_data = pd.merge(left=df_filtered_data,right=df_initial_count,how=\"inner\", left_on=\"Drug\", right_on=\"Drug\")\n",
    "df_main_data[\"Counts%\"] = (df_main_data[\"Mice Counts_x\"] / df_main_data[\"Mice Counts_y\"]) * 100\n",
    "df_main_data.head(5)"
   ]
  },
  {
   "cell_type": "code",
   "execution_count": 75,
   "metadata": {},
   "outputs": [
    {
     "data": {
      "text/plain": [
       "<matplotlib.legend.Legend at 0x1ec59cc36d8>"
      ]
     },
     "execution_count": 75,
     "metadata": {},
     "output_type": "execute_result"
    },
    {
     "data": {
      "image/png": "[encoded data removed]",
      "text/plain": [
       "<Figure size 576x360 with 1 Axes>"
      ]
     },
     "metadata": {
      "needs_background": "light"
     },
     "output_type": "display_data"
    }
   ],
   "source": [
    "\n",
    "plt.figure(figsize=(8,5))\n",
    "\n",
    "plt.scatter(df_main_data.loc[df_main_data[\"Drug\"] == \"Capomulin\",[\"Timepoint_x\"]]\n",
    "            , df_main_data.loc[df_main_data[\"Drug\"] == \"Capomulin\",[\"Counts%\"]]\n",
    "            , marker=\"o\", facecolors=\"orange\", edgecolors=\"black\", alpha=0.90, label=\"Capomulin\")\n",
    "plt.scatter(df_main_data.loc[df_main_data[\"Drug\"] == \"Infubinol\",[\"Timepoint_x\"]]\n",
    "            , df_main_data.loc[df_main_data[\"Drug\"] == \"Infubinol\",[\"Counts%\"]]\n",
    "            , marker=\"^\", facecolors=\"blue\", edgecolors=\"black\", alpha=0.90, label=\"Infubinol\")\n",
    "plt.scatter(df_main_data.loc[df_main_data[\"Drug\"] == \"Ketapril\",[\"Timepoint_x\"]]\n",
    "            , df_main_data.loc[df_main_data[\"Drug\"] == \"Ketapril\",[\"Counts%\"]]\n",
    "            , marker=\"s\", facecolors=\"green\", edgecolors=\"black\", alpha=0.90, label=\"Ketapril\" )\n",
    "plt.scatter(df_main_data.loc[df_main_data[\"Drug\"] == \"Placebo\",[\"Timepoint_x\"]]\n",
    "            , df_main_data.loc[df_main_data[\"Drug\"] == \"Placebo\",[\"Counts%\"]]\n",
    "            , marker=\"d\", facecolors=\"black\", edgecolors=\"black\", alpha=0.90, label=\"Placebo\")\n",
    "\n",
    "plt.errorbar(x=df_main_data.loc[df_main_data[\"Drug\"] == \"Capomulin\",[\"Timepoint_x\"]].values\n",
    "            , y=df_main_data.loc[df_main_data[\"Drug\"] == \"Capomulin\",[\"Counts%\"]].values\n",
    "            , yerr=1\n",
    "            , color='orange', marker='o', linestyle='dashed', linewidth=0.5\n",
    "            )\n",
    "plt.errorbar(x=df_main_data.loc[df_main_data[\"Drug\"] == \"Infubinol\",[\"Timepoint_x\"]].values\n",
    "            , y=df_main_data.loc[df_main_data[\"Drug\"] == \"Infubinol\",[\"Counts%\"]].values\n",
    "            , yerr=1\n",
    "            , color='blue', marker='d', linestyle='dashed', linewidth=0.5\n",
    "            )\n",
    "plt.errorbar(x=df_main_data.loc[df_main_data[\"Drug\"] == \"Ketapril\",[\"Timepoint_x\"]].values\n",
    "            , y=df_main_data.loc[df_main_data[\"Drug\"] == \"Ketapril\",[\"Counts%\"]].values\n",
    "            , yerr=1\n",
    "            , color='green', marker='s', linestyle='dashed', linewidth=0.5\n",
    "            )\n",
    "plt.errorbar(x=df_main_data.loc[df_main_data[\"Drug\"] == \"Placebo\",[\"Timepoint_x\"]].values\n",
    "            , y=df_main_data.loc[df_main_data[\"Drug\"] == \"Placebo\",[\"Counts%\"]].values\n",
    "            , yerr=1\n",
    "            , color='black', marker='d', linestyle='dashed', linewidth=0.5\n",
    "            )\n",
    "\n",
    "# plt.ylim(33, 74)\n",
    "\n",
    "plt.grid()\n",
    "plt.xlabel(\"Time (Days)\")\n",
    "plt.ylabel(\"Survival Rate (%)\")\n",
    "plt.legend(loc=\"lower left\")"
   ]
  },
  {
   "cell_type": "code",
   "execution_count": 80,
   "metadata": {},
   "outputs": [
    {
     "data": {
      "text/html": [
       "<div>\n",
       "<style scoped>\n",
       "    .dataframe tbody tr th:only-of-type {\n",
       "        vertical-align: middle;\n",
       "    }\n",
       "\n",
       "    .dataframe tbody tr th {\n",
       "        vertical-align: top;\n",
       "    }\n",
       "\n",
       "    .dataframe thead th {\n",
       "        text-align: right;\n",
       "    }\n",
       "</style>\n",
       "<table border=\"1\" class=\"dataframe\">\n",
       "  <thead>\n",
       "    <tr style=\"text-align: right;\">\n",
       "      <th></th>\n",
       "      <th>Drug</th>\n",
       "      <th>Timepoint_x</th>\n",
       "      <th>Tumor Volume (mm3)_x</th>\n",
       "      <th>Timepoint_y</th>\n",
       "      <th>Tumor Volume (mm3)_y</th>\n",
       "      <th>Change%</th>\n",
       "    </tr>\n",
       "  </thead>\n",
       "  <tbody>\n",
       "    <tr>\n",
       "      <th>0</th>\n",
       "      <td>Capomulin</td>\n",
       "      <td>0</td>\n",
       "      <td>45.0</td>\n",
       "      <td>45</td>\n",
       "      <td>36.236114</td>\n",
       "      <td>-19.475303</td>\n",
       "    </tr>\n",
       "    <tr>\n",
       "      <th>1</th>\n",
       "      <td>Infubinol</td>\n",
       "      <td>0</td>\n",
       "      <td>45.0</td>\n",
       "      <td>45</td>\n",
       "      <td>65.755562</td>\n",
       "      <td>46.123472</td>\n",
       "    </tr>\n",
       "    <tr>\n",
       "      <th>2</th>\n",
       "      <td>Ketapril</td>\n",
       "      <td>0</td>\n",
       "      <td>45.0</td>\n",
       "      <td>45</td>\n",
       "      <td>70.662958</td>\n",
       "      <td>57.028795</td>\n",
       "    </tr>\n",
       "    <tr>\n",
       "      <th>3</th>\n",
       "      <td>Placebo</td>\n",
       "      <td>0</td>\n",
       "      <td>45.0</td>\n",
       "      <td>45</td>\n",
       "      <td>68.084082</td>\n",
       "      <td>51.297960</td>\n",
       "    </tr>\n",
       "  </tbody>\n",
       "</table>\n",
       "</div>"
      ],
      "text/plain": [
       "        Drug  Timepoint_x  Tumor Volume (mm3)_x  Timepoint_y  \\\n",
       "0  Capomulin            0                  45.0           45   \n",
       "1  Infubinol            0                  45.0           45   \n",
       "2   Ketapril            0                  45.0           45   \n",
       "3    Placebo            0                  45.0           45   \n",
       "\n",
       "   Tumor Volume (mm3)_y    Change%  \n",
       "0             36.236114 -19.475303  \n",
       "1             65.755562  46.123472  \n",
       "2             70.662958  57.028795  \n",
       "3             68.084082  51.297960  "
      ]
     },
     "execution_count": 80,
     "metadata": {},
     "output_type": "execute_result"
    }
   ],
   "source": [
    "df_main_data = pd.DataFrame(list_mean_tumor_vol)\n",
    "\n",
    "df_data_at_0_time = df_main_data.loc[df_main_data[\"Drug\"].isin([\"Capomulin\", \"Infubinol\", \"Ketapril\", \"Placebo\"]) & df_main_data[\"Timepoint\"].isin([0]),:]\n",
    "df_data_at_45_time = df_main_data.loc[df_main_data[\"Drug\"].isin([\"Capomulin\", \"Infubinol\", \"Ketapril\", \"Placebo\"]) & df_main_data[\"Timepoint\"].isin([45]),:]\n",
    "\n",
    "df_main_data = pd.merge(left=df_data_at_0_time,right=df_data_at_45_time,how=\"inner\", left_on=\"Drug\", right_on=\"Drug\")\n",
    "\n",
    "df_main_data[\"Change%\"] = (df_main_data[\"Tumor Volume (mm3)_y\"]-df_main_data[\"Tumor Volume (mm3)_x\"])/df_main_data[\"Tumor Volume (mm3)_x\"] * 100\n",
    "df_main_data"
   ]
  },
  {
   "cell_type": "code",
   "execution_count": 84,
   "metadata": {},
   "outputs": [
    {
     "name": "stderr",
     "output_type": "stream",
     "text": [
      "No handles with labels found to put in legend.\n"
     ]
    },
    {
     "data": {
      "text/plain": [
       "<matplotlib.legend.Legend at 0x1ec5ad69a58>"
      ]
     },
     "execution_count": 84,
     "metadata": {},
     "output_type": "execute_result"
    },
    {
     "data": {
      "image/png": "[encoded data removed]",
      "text/plain": [
       "<Figure size 576x360 with 1 Axes>"
      ]
     },
     "metadata": {
      "needs_background": "light"
     },
     "output_type": "display_data"
    }
   ],
   "source": [
    "plt.figure(figsize=(8,5))\n",
    "\n",
    "plt.bar(df_main_data[\"Drug\"], df_main_data[\"Change%\"], color=np.where(df_main_data[\"Change%\"]>0, 'g', 'r'), align=\"center\")\n",
    "\n",
    "plt.grid()\n",
    "plt.xlabel(\"Time (Days)\")\n",
    "plt.ylabel(\"Survival Rate (%)\")\n",
    "plt.legend(loc=\"lower left\")"
   ]
  },
  {
   "cell_type": "code",
   "execution_count": null,
   "metadata": {},
   "outputs": [],
   "source": []
  }
 ],
 "metadata": {
  "kernelspec": {
   "display_name": "Python 3",
   "language": "python",
   "name": "python3"
  },
  "language_info": {
   "codemirror_mode": {
    "name": "ipython",
    "version": 3
   },
   "file_extension": ".py",
   "mimetype": "text/x-python",
   "name": "python",
   "nbconvert_exporter": "python",
   "pygments_lexer": "ipython3",
   "version": "3.7.3"
  }
 },
 "nbformat": 4,
 "nbformat_minor": 2
}
